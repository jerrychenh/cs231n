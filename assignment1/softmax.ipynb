{
 "cells": [
  {
   "cell_type": "markdown",
   "metadata": {
    "tags": [
     "pdf-title"
    ]
   },
   "source": [
    "# Softmax exercise\n",
    "\n",
    "*Complete and hand in this completed worksheet (including its outputs and any supporting code outside of the worksheet) with your assignment submission. For more details see the [assignments page](http://vision.stanford.edu/teaching/cs231n/assignments.html) on the course website.*\n",
    "\n",
    "This exercise is analogous to the SVM exercise. You will:\n",
    "\n",
    "- implement a fully-vectorized **loss function** for the Softmax classifier\n",
    "- implement the fully-vectorized expression for its **analytic gradient**\n",
    "- **check your implementation** with numerical gradient\n",
    "- use a validation set to **tune the learning rate and regularization** strength\n",
    "- **optimize** the loss function with **SGD**\n",
    "- **visualize** the final learned weights\n"
   ]
  },
  {
   "cell_type": "code",
   "execution_count": 1,
   "metadata": {
    "tags": [
     "pdf-ignore"
    ]
   },
   "outputs": [],
   "source": [
    "import random\n",
    "import numpy as np\n",
    "from cs231n.data_utils import load_CIFAR10\n",
    "import matplotlib.pyplot as plt\n",
    "\n",
    "%matplotlib inline\n",
    "plt.rcParams['figure.figsize'] = (10.0, 8.0) # set default size of plots\n",
    "plt.rcParams['image.interpolation'] = 'nearest'\n",
    "plt.rcParams['image.cmap'] = 'gray'\n",
    "\n",
    "# for auto-reloading extenrnal modules\n",
    "# see http://stackoverflow.com/questions/1907993/autoreload-of-modules-in-ipython\n",
    "%load_ext autoreload\n",
    "%autoreload 2"
   ]
  },
  {
   "cell_type": "code",
   "execution_count": 2,
   "metadata": {
    "tags": [
     "pdf-ignore"
    ]
   },
   "outputs": [
    {
     "name": "stdout",
     "output_type": "stream",
     "text": [
      "Train data shape:  (49000, 3073)\n",
      "Train labels shape:  (49000,)\n",
      "Validation data shape:  (1000, 3073)\n",
      "Validation labels shape:  (1000,)\n",
      "Test data shape:  (1000, 3073)\n",
      "Test labels shape:  (1000,)\n",
      "dev data shape:  (500, 3073)\n",
      "dev labels shape:  (500,)\n"
     ]
    }
   ],
   "source": [
    "def get_CIFAR10_data(num_training=49000, num_validation=1000, num_test=1000, num_dev=500):\n",
    "    \"\"\"\n",
    "    Load the CIFAR-10 dataset from disk and perform preprocessing to prepare\n",
    "    it for the linear classifier. These are the same steps as we used for the\n",
    "    SVM, but condensed to a single function.  \n",
    "    \"\"\"\n",
    "    # Load the raw CIFAR-10 data\n",
    "    cifar10_dir = 'cs231n/datasets/cifar-10-batches-py'\n",
    "    \n",
    "    # Cleaning up variables to prevent loading data multiple times (which may cause memory issue)\n",
    "    try:\n",
    "       del X_train, y_train\n",
    "       del X_test, y_test\n",
    "       print('Clear previously loaded data.')\n",
    "    except:\n",
    "       pass\n",
    "\n",
    "    X_train, y_train, X_test, y_test = load_CIFAR10(cifar10_dir)\n",
    "    \n",
    "    # subsample the data\n",
    "    mask = list(range(num_training, num_training + num_validation))\n",
    "    X_val = X_train[mask]\n",
    "    y_val = y_train[mask]\n",
    "    mask = list(range(num_training))\n",
    "    X_train = X_train[mask]\n",
    "    y_train = y_train[mask]\n",
    "    mask = list(range(num_test))\n",
    "    X_test = X_test[mask]\n",
    "    y_test = y_test[mask]\n",
    "    mask = np.random.choice(num_training, num_dev, replace=False)\n",
    "    X_dev = X_train[mask]\n",
    "    y_dev = y_train[mask]\n",
    "    \n",
    "    # Preprocessing: reshape the image data into rows\n",
    "    X_train = np.reshape(X_train, (X_train.shape[0], -1))\n",
    "    X_val = np.reshape(X_val, (X_val.shape[0], -1))\n",
    "    X_test = np.reshape(X_test, (X_test.shape[0], -1))\n",
    "    X_dev = np.reshape(X_dev, (X_dev.shape[0], -1))\n",
    "    \n",
    "    # Normalize the data: subtract the mean image\n",
    "    mean_image = np.mean(X_train, axis = 0)\n",
    "    X_train -= mean_image\n",
    "    X_val -= mean_image\n",
    "    X_test -= mean_image\n",
    "    X_dev -= mean_image\n",
    "    \n",
    "    # add bias dimension and transform into columns\n",
    "    X_train = np.hstack([X_train, np.ones((X_train.shape[0], 1))])\n",
    "    X_val = np.hstack([X_val, np.ones((X_val.shape[0], 1))])\n",
    "    X_test = np.hstack([X_test, np.ones((X_test.shape[0], 1))])\n",
    "    X_dev = np.hstack([X_dev, np.ones((X_dev.shape[0], 1))])\n",
    "    \n",
    "    return X_train, y_train, X_val, y_val, X_test, y_test, X_dev, y_dev\n",
    "\n",
    "\n",
    "# Invoke the above function to get our data.\n",
    "X_train, y_train, X_val, y_val, X_test, y_test, X_dev, y_dev = get_CIFAR10_data()\n",
    "print('Train data shape: ', X_train.shape)\n",
    "print('Train labels shape: ', y_train.shape)\n",
    "print('Validation data shape: ', X_val.shape)\n",
    "print('Validation labels shape: ', y_val.shape)\n",
    "print('Test data shape: ', X_test.shape)\n",
    "print('Test labels shape: ', y_test.shape)\n",
    "print('dev data shape: ', X_dev.shape)\n",
    "print('dev labels shape: ', y_dev.shape)"
   ]
  },
  {
   "cell_type": "markdown",
   "metadata": {},
   "source": [
    "## Softmax Classifier\n",
    "\n",
    "Your code for this section will all be written inside **cs231n/classifiers/softmax.py**. \n"
   ]
  },
  {
   "cell_type": "code",
   "execution_count": 9,
   "metadata": {},
   "outputs": [
    {
     "name": "stdout",
     "output_type": "stream",
     "text": [
      "loss: 2.374132\n",
      "sanity check: 2.302585\n"
     ]
    }
   ],
   "source": [
    "# First implement the naive softmax loss function with nested loops.\n",
    "# Open the file cs231n/classifiers/softmax.py and implement the\n",
    "# softmax_loss_naive function.\n",
    "\n",
    "from cs231n.classifiers.softmax import softmax_loss_naive\n",
    "import time\n",
    "\n",
    "# Generate a random softmax weight matrix and use it to compute the loss.\n",
    "W = np.random.randn(3073, 10) * 0.0001\n",
    "loss, grad = softmax_loss_naive(W, X_dev, y_dev, 0.0)\n",
    "\n",
    "# As a rough sanity check, our loss should be something close to -log(0.1).\n",
    "print('loss: %f' % loss)\n",
    "print('sanity check: %f' % (-np.log(0.1)))"
   ]
  },
  {
   "cell_type": "markdown",
   "metadata": {
    "tags": [
     "pdf-inline"
    ]
   },
   "source": [
    "**Inline Question 1**\n",
    "\n",
    "Why do we expect our loss to be close to -log(0.1)? Explain briefly.**\n",
    "\n",
    "$\\color{blue}{\\textit Your Answer:}$ *Fill this in* \n",
    "\n"
   ]
  },
  {
   "cell_type": "code",
   "execution_count": 10,
   "metadata": {},
   "outputs": [
    {
     "name": "stdout",
     "output_type": "stream",
     "text": [
      "numerical: 1.966730 analytic: 1.966730, relative error: 1.562929e-08\n",
      "numerical: 0.492661 analytic: 0.492661, relative error: 2.153729e-09\n",
      "numerical: 0.720314 analytic: 0.720314, relative error: 2.123407e-08\n",
      "numerical: -1.308916 analytic: -1.308916, relative error: 3.724684e-08\n",
      "numerical: -4.454918 analytic: -4.454918, relative error: 1.299463e-08\n",
      "numerical: 1.204915 analytic: 1.204915, relative error: 1.802352e-08\n",
      "numerical: 2.990562 analytic: 2.990562, relative error: 2.564409e-08\n",
      "numerical: 0.529752 analytic: 0.529752, relative error: 4.930486e-08\n",
      "numerical: 1.576574 analytic: 1.576573, relative error: 2.116090e-08\n",
      "numerical: 2.514861 analytic: 2.514861, relative error: 1.229172e-08\n",
      "numerical: 4.015010 analytic: 4.015010, relative error: 5.860566e-09\n",
      "numerical: 1.422790 analytic: 1.422790, relative error: 1.312896e-08\n",
      "numerical: -0.544596 analytic: -0.544596, relative error: 1.413030e-08\n",
      "numerical: -0.256604 analytic: -0.256604, relative error: 1.509796e-07\n",
      "numerical: 0.409862 analytic: 0.409862, relative error: 1.284143e-07\n",
      "numerical: -0.530145 analytic: -0.530145, relative error: 6.317867e-09\n",
      "numerical: -6.023639 analytic: -6.023639, relative error: 3.991719e-09\n",
      "numerical: -0.942653 analytic: -0.942653, relative error: 1.027460e-08\n",
      "numerical: -4.321713 analytic: -4.321713, relative error: 9.206396e-09\n",
      "numerical: 1.079113 analytic: 1.079113, relative error: 1.152572e-08\n"
     ]
    }
   ],
   "source": [
    "# Complete the implementation of softmax_loss_naive and implement a (naive)\n",
    "# version of the gradient that uses nested loops.\n",
    "loss, grad = softmax_loss_naive(W, X_dev, y_dev, 0.0)\n",
    "\n",
    "# As we did for the SVM, use numeric gradient checking as a debugging tool.\n",
    "# The numeric gradient should be close to the analytic gradient.\n",
    "from cs231n.gradient_check import grad_check_sparse\n",
    "f = lambda w: softmax_loss_naive(w, X_dev, y_dev, 0.0)[0]\n",
    "grad_numerical = grad_check_sparse(f, W, grad, 10)\n",
    "\n",
    "# similar to SVM case, do another gradient check with regularization\n",
    "loss, grad = softmax_loss_naive(W, X_dev, y_dev, 5e1)\n",
    "f = lambda w: softmax_loss_naive(w, X_dev, y_dev, 5e1)[0]\n",
    "grad_numerical = grad_check_sparse(f, W, grad, 10)"
   ]
  },
  {
   "cell_type": "code",
   "execution_count": 12,
   "metadata": {},
   "outputs": [
    {
     "name": "stdout",
     "output_type": "stream",
     "text": [
      "naive loss: 2.374132e+00 computed in 0.099942s\n",
      "ms shape:(500, 1)\n",
      "vectorized loss: 2.374132e+00 computed in 0.002994s\n",
      "Loss difference: 0.000000\n",
      "Gradient difference: 0.000000\n"
     ]
    }
   ],
   "source": [
    "# Now that we have a naive implementation of the softmax loss function and its gradient,\n",
    "# implement a vectorized version in softmax_loss_vectorized.\n",
    "# The two versions should compute the same results, but the vectorized version should be\n",
    "# much faster.\n",
    "tic = time.time()\n",
    "loss_naive, grad_naive = softmax_loss_naive(W, X_dev, y_dev, 0.000005)\n",
    "toc = time.time()\n",
    "print('naive loss: %e computed in %fs' % (loss_naive, toc - tic))\n",
    "\n",
    "from cs231n.classifiers.softmax import softmax_loss_vectorized\n",
    "tic = time.time()\n",
    "loss_vectorized, grad_vectorized = softmax_loss_vectorized(W, X_dev, y_dev, 0.000005)\n",
    "toc = time.time()\n",
    "print('vectorized loss: %e computed in %fs' % (loss_vectorized, toc - tic))\n",
    "\n",
    "# As we did for the SVM, we use the Frobenius norm to compare the two versions\n",
    "# of the gradient.\n",
    "grad_difference = np.linalg.norm(grad_naive - grad_vectorized, ord='fro')\n",
    "print('Loss difference: %f' % np.abs(loss_naive - loss_vectorized))\n",
    "print('Gradient difference: %f' % grad_difference)"
   ]
  },
  {
   "cell_type": "code",
   "execution_count": 18,
   "metadata": {
    "tags": [
     "code"
    ]
   },
   "outputs": [
    {
     "name": "stdout",
     "output_type": "stream",
     "text": [
      "iteration 0 / 500: loss 768.435526\n",
      "iteration 100 / 500: loss 282.010212\n",
      "iteration 200 / 500: loss 104.448511\n",
      "iteration 300 / 500: loss 39.613477\n",
      "iteration 400 / 500: loss 15.835646\n",
      "iteration 0 / 500: loss 941.167156\n",
      "iteration 100 / 500: loss 282.917182\n",
      "iteration 200 / 500: loss 86.071634\n",
      "iteration 300 / 500: loss 27.255229\n",
      "iteration 400 / 500: loss 9.564860\n",
      "iteration 0 / 500: loss 1084.167505\n",
      "iteration 100 / 500: loss 266.602163\n",
      "iteration 200 / 500: loss 66.806224\n",
      "iteration 300 / 500: loss 17.970322\n",
      "iteration 400 / 500: loss 6.043479\n",
      "iteration 0 / 500: loss 1223.763901\n",
      "iteration 100 / 500: loss 246.131562\n",
      "iteration 200 / 500: loss 50.976016\n",
      "iteration 300 / 500: loss 11.882642\n",
      "iteration 400 / 500: loss 4.094438\n",
      "iteration 0 / 500: loss 1401.146666\n",
      "iteration 100 / 500: loss 230.721065\n",
      "iteration 200 / 500: loss 39.480923\n",
      "iteration 300 / 500: loss 8.204390\n",
      "iteration 400 / 500: loss 3.116506\n",
      "iteration 0 / 500: loss 1553.586102\n",
      "iteration 100 / 500: loss 209.289167\n",
      "iteration 200 / 500: loss 29.807084\n",
      "iteration 300 / 500: loss 5.836392\n",
      "iteration 400 / 500: loss 2.640536\n",
      "iteration 0 / 500: loss 776.665195\n",
      "iteration 100 / 500: loss 105.132432\n",
      "iteration 200 / 500: loss 15.829063\n",
      "iteration 300 / 500: loss 3.936671\n",
      "iteration 400 / 500: loss 2.320890\n",
      "iteration 0 / 500: loss 934.664392\n",
      "iteration 100 / 500: loss 84.818514\n",
      "iteration 200 / 500: loss 9.508996\n",
      "iteration 300 / 500: loss 2.721242\n",
      "iteration 400 / 500: loss 2.156653\n",
      "iteration 0 / 500: loss 1076.047617\n",
      "iteration 100 / 500: loss 65.580754\n",
      "iteration 200 / 500: loss 5.888428\n",
      "iteration 300 / 500: loss 2.328622\n",
      "iteration 400 / 500: loss 2.126679\n",
      "iteration 0 / 500: loss 1232.744581\n",
      "iteration 100 / 500: loss 50.691453\n",
      "iteration 200 / 500: loss 4.056587\n",
      "iteration 300 / 500: loss 2.196985\n",
      "iteration 400 / 500: loss 2.138374\n",
      "iteration 0 / 500: loss 1387.394566\n",
      "iteration 100 / 500: loss 38.521161\n",
      "iteration 200 / 500: loss 3.078395\n",
      "iteration 300 / 500: loss 2.123963\n",
      "iteration 400 / 500: loss 2.149847\n",
      "iteration 0 / 500: loss 1541.560337\n",
      "iteration 100 / 500: loss 29.058935\n",
      "iteration 200 / 500: loss 2.592155\n",
      "iteration 300 / 500: loss 2.127524\n",
      "iteration 400 / 500: loss 2.199026\n",
      "iteration 0 / 500: loss 769.535837\n",
      "iteration 100 / 500: loss 39.037539\n",
      "iteration 200 / 500: loss 3.819802\n",
      "iteration 300 / 500: loss 2.144992\n",
      "iteration 400 / 500: loss 2.097426\n",
      "iteration 0 / 500: loss 928.372084\n",
      "iteration 100 / 500: loss 26.357046\n",
      "iteration 200 / 500: loss 2.767779\n",
      "iteration 300 / 500: loss 2.088713\n",
      "iteration 400 / 500: loss 2.070478\n",
      "iteration 0 / 500: loss 1075.369518\n",
      "iteration 100 / 500: loss 17.308755\n",
      "iteration 200 / 500: loss 2.298236\n",
      "iteration 300 / 500: loss 2.178274\n",
      "iteration 400 / 500: loss 2.090323\n",
      "iteration 0 / 500: loss 1228.653404\n",
      "iteration 100 / 500: loss 11.536303\n",
      "iteration 200 / 500: loss 2.189959\n",
      "iteration 300 / 500: loss 2.129029\n",
      "iteration 400 / 500: loss 2.105567\n",
      "iteration 0 / 500: loss 1384.238990\n",
      "iteration 100 / 500: loss 7.883506\n",
      "iteration 200 / 500: loss 2.186172\n",
      "iteration 300 / 500: loss 2.147502\n",
      "iteration 400 / 500: loss 2.088653\n",
      "iteration 0 / 500: loss 1531.843811\n",
      "iteration 100 / 500: loss 5.553465\n",
      "iteration 200 / 500: loss 2.096727\n",
      "iteration 300 / 500: loss 2.128877\n",
      "iteration 400 / 500: loss 2.162602\n",
      "iteration 0 / 500: loss 768.801097\n",
      "iteration 100 / 500: loss 15.380801\n",
      "iteration 200 / 500: loss 2.295469\n",
      "iteration 300 / 500: loss 2.083382\n",
      "iteration 400 / 500: loss 2.091314\n",
      "iteration 0 / 500: loss 931.284913\n",
      "iteration 100 / 500: loss 9.148148\n",
      "iteration 200 / 500: loss 2.161360\n",
      "iteration 300 / 500: loss 2.041659\n",
      "iteration 400 / 500: loss 2.151438\n",
      "iteration 0 / 500: loss 1087.894523\n",
      "iteration 100 / 500: loss 5.781342\n",
      "iteration 200 / 500: loss 2.159043\n",
      "iteration 300 / 500: loss 2.077821\n",
      "iteration 400 / 500: loss 2.080830\n",
      "iteration 0 / 500: loss 1238.672551\n",
      "iteration 100 / 500: loss 3.957730\n",
      "iteration 200 / 500: loss 2.191878\n",
      "iteration 300 / 500: loss 2.149461\n",
      "iteration 400 / 500: loss 2.122824\n",
      "iteration 0 / 500: loss 1403.821195\n",
      "iteration 100 / 500: loss 3.012749\n",
      "iteration 200 / 500: loss 2.150546\n",
      "iteration 300 / 500: loss 2.161907\n",
      "iteration 400 / 500: loss 2.106626\n",
      "iteration 0 / 500: loss 1529.949521\n",
      "iteration 100 / 500: loss 2.570247\n",
      "iteration 200 / 500: loss 2.104124\n",
      "iteration 300 / 500: loss 2.160092\n",
      "iteration 400 / 500: loss 2.118376\n",
      "iteration 0 / 500: loss 766.401604\n",
      "iteration 100 / 500: loss 6.800387\n",
      "iteration 200 / 500: loss 2.138617\n",
      "iteration 300 / 500: loss 2.100252\n",
      "iteration 400 / 500: loss 2.057195\n",
      "iteration 0 / 500: loss 917.238531\n",
      "iteration 100 / 500: loss 4.204001\n",
      "iteration 200 / 500: loss 2.078141\n",
      "iteration 300 / 500: loss 2.004231\n",
      "iteration 400 / 500: loss 2.069772\n",
      "iteration 0 / 500: loss 1087.814622\n",
      "iteration 100 / 500: loss 2.980827\n",
      "iteration 200 / 500: loss 2.136763\n",
      "iteration 300 / 500: loss 2.079099\n",
      "iteration 400 / 500: loss 2.151847\n",
      "iteration 0 / 500: loss 1234.834886\n",
      "iteration 100 / 500: loss 2.484247\n",
      "iteration 200 / 500: loss 2.124601\n",
      "iteration 300 / 500: loss 2.116299\n",
      "iteration 400 / 500: loss 2.087661\n",
      "iteration 0 / 500: loss 1404.067730\n",
      "iteration 100 / 500: loss 2.306744\n",
      "iteration 200 / 500: loss 2.088692\n",
      "iteration 300 / 500: loss 2.225586\n",
      "iteration 400 / 500: loss 2.145792\n",
      "iteration 0 / 500: loss 1546.543840\n",
      "iteration 100 / 500: loss 2.179774\n",
      "iteration 200 / 500: loss 2.123584\n",
      "iteration 300 / 500: loss 2.189969\n",
      "iteration 400 / 500: loss 2.136057\n",
      "lr 1.000000e-07 reg 2.500000e+04 train accuracy: 0.308816 val accuracy: 0.318000\n",
      "lr 1.000000e-07 reg 3.000000e+04 train accuracy: 0.306673 val accuracy: 0.323000\n",
      "lr 1.000000e-07 reg 3.500000e+04 train accuracy: 0.319878 val accuracy: 0.331000\n",
      "lr 1.000000e-07 reg 4.000000e+04 train accuracy: 0.308163 val accuracy: 0.328000\n",
      "lr 1.000000e-07 reg 4.500000e+04 train accuracy: 0.312184 val accuracy: 0.336000\n",
      "lr 1.000000e-07 reg 5.000000e+04 train accuracy: 0.306714 val accuracy: 0.321000\n",
      "lr 2.000000e-07 reg 2.500000e+04 train accuracy: 0.335367 val accuracy: 0.348000\n",
      "lr 2.000000e-07 reg 3.000000e+04 train accuracy: 0.329245 val accuracy: 0.349000\n",
      "lr 2.000000e-07 reg 3.500000e+04 train accuracy: 0.314735 val accuracy: 0.333000\n",
      "lr 2.000000e-07 reg 4.000000e+04 train accuracy: 0.313878 val accuracy: 0.326000\n",
      "lr 2.000000e-07 reg 4.500000e+04 train accuracy: 0.308204 val accuracy: 0.315000\n",
      "lr 2.000000e-07 reg 5.000000e+04 train accuracy: 0.304510 val accuracy: 0.328000\n",
      "lr 3.000000e-07 reg 2.500000e+04 train accuracy: 0.325204 val accuracy: 0.339000\n",
      "lr 3.000000e-07 reg 3.000000e+04 train accuracy: 0.326449 val accuracy: 0.333000\n",
      "lr 3.000000e-07 reg 3.500000e+04 train accuracy: 0.323449 val accuracy: 0.337000\n",
      "lr 3.000000e-07 reg 4.000000e+04 train accuracy: 0.310510 val accuracy: 0.333000\n",
      "lr 3.000000e-07 reg 4.500000e+04 train accuracy: 0.314714 val accuracy: 0.328000\n",
      "lr 3.000000e-07 reg 5.000000e+04 train accuracy: 0.301082 val accuracy: 0.310000\n",
      "lr 4.000000e-07 reg 2.500000e+04 train accuracy: 0.323286 val accuracy: 0.327000\n",
      "lr 4.000000e-07 reg 3.000000e+04 train accuracy: 0.328510 val accuracy: 0.333000\n",
      "lr 4.000000e-07 reg 3.500000e+04 train accuracy: 0.320265 val accuracy: 0.341000\n",
      "lr 4.000000e-07 reg 4.000000e+04 train accuracy: 0.313898 val accuracy: 0.336000\n",
      "lr 4.000000e-07 reg 4.500000e+04 train accuracy: 0.309408 val accuracy: 0.314000\n",
      "lr 4.000000e-07 reg 5.000000e+04 train accuracy: 0.315571 val accuracy: 0.327000\n",
      "lr 5.000000e-07 reg 2.500000e+04 train accuracy: 0.320816 val accuracy: 0.334000\n",
      "lr 5.000000e-07 reg 3.000000e+04 train accuracy: 0.313776 val accuracy: 0.333000\n",
      "lr 5.000000e-07 reg 3.500000e+04 train accuracy: 0.304673 val accuracy: 0.321000\n",
      "lr 5.000000e-07 reg 4.000000e+04 train accuracy: 0.308612 val accuracy: 0.321000\n",
      "lr 5.000000e-07 reg 4.500000e+04 train accuracy: 0.303755 val accuracy: 0.318000\n",
      "lr 5.000000e-07 reg 5.000000e+04 train accuracy: 0.303408 val accuracy: 0.307000\n",
      "best validation accuracy achieved during cross-validation: 0.349000\n"
     ]
    }
   ],
   "source": [
    "# Use the validation set to tune hyperparameters (regularization strength and\n",
    "# learning rate). You should experiment with different ranges for the learning\n",
    "# rates and regularization strengths; if you are careful you should be able to\n",
    "# get a classification accuracy of over 0.35 on the validation set.\n",
    "from cs231n.classifiers import Softmax\n",
    "results = {}\n",
    "best_val = -1\n",
    "best_softmax = None\n",
    "learning_rates = [1e-7, 2e-7, 3e-7, 4e-7, 5e-7]\n",
    "regularization_strengths = [2.5e4, 3e4, 3.5e4, 4e4, 4.5e4, 5e4]\n",
    "\n",
    "################################################################################\n",
    "# TODO:                                                                        #\n",
    "# Use the validation set to set the learning rate and regularization strength. #\n",
    "# This should be identical to the validation that you did for the SVM; save    #\n",
    "# the best trained softmax classifer in best_softmax.                          #\n",
    "################################################################################\n",
    "# *****START OF YOUR CODE (DO NOT DELETE/MODIFY THIS LINE)*****\n",
    "\n",
    "for lr in learning_rates:\n",
    "    for reg in regularization_strengths:\n",
    "        sftmax = Softmax()\n",
    "        sftmax.train(X_train, y_train, learning_rate=lr, reg=reg,\n",
    "                      num_iters=500, verbose=True)\n",
    "        y_train_pred = sftmax.predict(X_train)\n",
    "        train_accr = np.mean(y_train == y_train_pred)\n",
    "        y_val_pred = sftmax.predict(X_val)\n",
    "        val_accr = np.mean(y_val == y_val_pred)\n",
    "        results[(lr, reg)] = (train_accr, val_accr)\n",
    "        if val_accr > best_val:\n",
    "            best_val = val_accr\n",
    "            best_softmax = sftmax\n",
    "        \n",
    "\n",
    "# *****END OF YOUR CODE (DO NOT DELETE/MODIFY THIS LINE)*****\n",
    "    \n",
    "# Print out results.\n",
    "for lr, reg in sorted(results):\n",
    "    train_accuracy, val_accuracy = results[(lr, reg)]\n",
    "    print('lr %e reg %e train accuracy: %f val accuracy: %f' % (\n",
    "                lr, reg, train_accuracy, val_accuracy))\n",
    "    \n",
    "print('best validation accuracy achieved during cross-validation: %f' % best_val)"
   ]
  },
  {
   "cell_type": "code",
   "execution_count": 19,
   "metadata": {},
   "outputs": [
    {
     "name": "stdout",
     "output_type": "stream",
     "text": [
      "softmax on raw pixels final test set accuracy: 0.340000\n"
     ]
    }
   ],
   "source": [
    "# evaluate on test set\n",
    "# Evaluate the best softmax on test set\n",
    "y_test_pred = best_softmax.predict(X_test)\n",
    "test_accuracy = np.mean(y_test == y_test_pred)\n",
    "print('softmax on raw pixels final test set accuracy: %f' % (test_accuracy, ))"
   ]
  },
  {
   "cell_type": "markdown",
   "metadata": {
    "tags": [
     "pdf-inline"
    ]
   },
   "source": [
    "**Inline Question 2** - *True or False*\n",
    "\n",
    "Suppose the overall training loss is defined as the sum of the per-datapoint loss over all training examples. It is possible to add a new datapoint to a training set that would leave the SVM loss unchanged, but this is not the case with the Softmax classifier loss.\n",
    "\n",
    "$\\color{blue}{\\textit Your Answer:}$\n",
    "\n",
    "\n",
    "$\\color{blue}{\\textit Your Explanation:}$\n",
    "\n"
   ]
  },
  {
   "cell_type": "code",
   "execution_count": 20,
   "metadata": {},
   "outputs": [
    {
     "data": {
      "image/png": "[encoded data removed]",
      "text/plain": [
       "<Figure size 432x288 with 10 Axes>"
      ]
     },
     "metadata": {
      "needs_background": "light"
     },
     "output_type": "display_data"
    }
   ],
   "source": [
    "# Visualize the learned weights for each class\n",
    "w = best_softmax.W[:-1,:] # strip out the bias\n",
    "w = w.reshape(32, 32, 3, 10)\n",
    "\n",
    "w_min, w_max = np.min(w), np.max(w)\n",
    "\n",
    "classes = ['plane', 'car', 'bird', 'cat', 'deer', 'dog', 'frog', 'horse', 'ship', 'truck']\n",
    "for i in range(10):\n",
    "    plt.subplot(2, 5, i + 1)\n",
    "    \n",
    "    # Rescale the weights to be between 0 and 255\n",
    "    wimg = 255.0 * (w[:, :, :, i].squeeze() - w_min) / (w_max - w_min)\n",
    "    plt.imshow(wimg.astype('uint8'))\n",
    "    plt.axis('off')\n",
    "    plt.title(classes[i])"
   ]
  },
  {
   "cell_type": "code",
   "execution_count": null,
   "metadata": {},
   "outputs": [],
   "source": []
  }
 ],
 "metadata": {
  "kernelspec": {
   "display_name": "Python 3",
   "language": "python",
   "name": "python3"
  },
  "language_info": {
   "codemirror_mode": {
    "name": "ipython",
    "version": 3
   },
   "file_extension": ".py",
   "mimetype": "text/x-python",
   "name": "python",
   "nbconvert_exporter": "python",
   "pygments_lexer": "ipython3",
   "version": "3.7.3"
  }
 },
 "nbformat": 4,
 "nbformat_minor": 1
}
